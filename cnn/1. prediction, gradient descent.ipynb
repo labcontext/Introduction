{
 "cells": [
  {
   "cell_type": "markdown",
   "metadata": {},
   "source": [
    "# GPU or CPU check - pytorch\n",
    "\n",
    "Prior to entering, many people use gpu for deep learning.\n",
    "\n",
    "Check the gpu is working normally by below code.\n",
    "\n",
    "If your gpu works, cuda is printed, or not cpu is printed.\n",
    "\n",
    "I recommend you to use gpu for deep learning."
   ]
  },
  {
   "cell_type": "code",
   "execution_count": 10,
   "metadata": {},
   "outputs": [
    {
     "name": "stdout",
     "output_type": "stream",
     "text": [
      "cuda\n"
     ]
    }
   ],
   "source": [
    "import torch\n",
    "USE_CUDA = torch.cuda.is_available()\n",
    "DEVICE = torch.device(\"cuda\" if USE_CUDA else \"cpu\")\n",
    "print(DEVICE)"
   ]
  },
  {
   "cell_type": "markdown",
   "metadata": {},
   "source": [
    "# After check your GPU is working now\n",
    "# Let's understand the basic concepts.\n",
    "\n",
    "I have the x, y data like below.\n",
    "x_data = [1.0, 2.0, 3.0]\n",
    "y_data = [2.0, 4.0, 6.0]\n",
    "\n",
    "### What is the y_data, if my x_data is 4 or something?"
   ]
  },
  {
   "cell_type": "code",
   "execution_count": 11,
   "metadata": {},
   "outputs": [],
   "source": [
    "import numpy as np\n",
    "import matplotlib.pyplot as plt\n",
    "\n",
    "x_data = [1.0, 2.0, 3.0]\n",
    "y_data = [2.0, 4.0, 6.0]\n",
    "\n"
   ]
  },
  {
   "cell_type": "markdown",
   "metadata": {},
   "source": [
    "#### In the basic algebra, you can make the equation like below\n",
    "\n",
    "$$\n",
    " y = wx + b\n",
    "$$\n",
    "\n",
    "#### And we can solve the equation by put the x and get the a, b.\n",
    "\n",
    "#### But how can we solve this equation in deep learning area?\n",
    "\n",
    "#### It can be solved by prediction with get the smallest loss.\n",
    "\n",
    "$$\n",
    "loss = (\\hat{y} - y)^2\n",
    "$$\n",
    "$$ \n",
    "MSE = \\frac{1}{n}\\sum_{n=1}^N (\\hat{y_n} - y_n)^2\n",
    "$$\n",
    "\n",
    "\n",
    "#### Let's see the below code and find the smallest loss."
   ]
  },
  {
   "cell_type": "code",
   "execution_count": 12,
   "metadata": {
    "scrolled": true
   },
   "outputs": [],
   "source": [
    "def forward(x):\n",
    "    return x * w\n",
    "def loss(x, y):\n",
    "    y_prediction = forward(x)\n",
    "    return (y_prediction - y) * (y_prediction - y)\n",
    "\n",
    "range_ = np.arange(0.0, 4.1, 0.5)\n",
    "MSE = []\n",
    "\n",
    "    \n",
    "   "
   ]
  },
  {
   "cell_type": "code",
   "execution_count": 13,
   "metadata": {},
   "outputs": [
    {
     "name": "stdout",
     "output_type": "stream",
     "text": [
      "w is  0.0\n",
      "w is  0.5\n",
      "w is  1.0\n",
      "w is  1.5\n",
      "w is  2.0\n",
      "w is  2.5\n",
      "w is  3.0\n",
      "w is  3.5\n",
      "w is  4.0\n"
     ]
    }
   ],
   "source": [
    "for w in range_:\n",
    "    print(\"w is \", w)\n",
    "    loss_sum = 0\n",
    "    for x_val, y_val in zip(x_data, y_data):\n",
    "        y_pred_val = forward(x_val)\n",
    "        loss_val = loss(x_val, y_val)\n",
    "        loss_sum += loss_val\n",
    "    MSE.append(loss_sum / len(x_data))"
   ]
  },
  {
   "cell_type": "markdown",
   "metadata": {},
   "source": [
    "#### By this code, we got the MSE according to a.\n",
    "#### Let's see the below graph, can you find the smallest loss?\n",
    "I can find the smallest loss in w = 2.0"
   ]
  },
  {
   "cell_type": "code",
   "execution_count": 14,
   "metadata": {},
   "outputs": [
    {
     "data": {
      "image/png": "[encoded data removed]",
      "text/plain": [
       "<Figure size 432x288 with 1 Axes>"
      ]
     },
     "metadata": {
      "needs_background": "light"
     },
     "output_type": "display_data"
    }
   ],
   "source": [
    "plt.plot(range_, MSE)\n",
    "plt.ylabel('MSE')\n",
    "plt.xlabel('w')\n",
    "plt.show()"
   ]
  },
  {
   "cell_type": "markdown",
   "metadata": {},
   "source": [
    "# Next let's do a prediction by using Gradeint descent algorithm\n",
    "\n",
    "We can start w value in any place, so the important thing is choose our direction of moving.\n",
    "\n",
    "If we are in positive position of the pole of the graph, we have to move negative direction.\n",
    "Beacuse gradient is positve in right side of the pole.\n",
    "Else we have to move positve direction.\n",
    "\n",
    "In the loss equation, \n",
    "$$\n",
    "loss = (\\hat{y} - y)^2 = (x*w -y)^2\n",
    "$$\n",
    "\n",
    "$$\n",
    "w = w - \\alpha\\frac{dloss}{dw} = w - \\alpha * 2x(xw -y )\n",
    "$$\n"
   ]
  },
  {
   "cell_type": "code",
   "execution_count": 15,
   "metadata": {},
   "outputs": [
    {
     "name": "stdout",
     "output_type": "stream",
     "text": [
      "Epoch  =  0 /9 w =  3.0 loss =  19.676960400383997\n",
      "Epoch  =  1 /9 w =  3.0 loss =  10.755076961063336\n",
      "Epoch  =  2 /9 w =  3.0 loss =  5.878533985164606\n",
      "Epoch  =  3 /9 w =  3.0 loss =  3.2131022343998725\n",
      "Epoch  =  4 /9 w =  2.0 loss =  1.7562245952408806\n",
      "Epoch  =  5 /9 w =  2.0 loss =  0.9599211615204248\n",
      "Epoch  =  6 /9 w =  2.0 loss =  0.5246758522979996\n",
      "Epoch  =  7 /9 w =  2.0 loss =  0.28677849913070713\n",
      "Epoch  =  8 /9 w =  2.0 loss =  0.1567480325299029\n",
      "Epoch  =  9 /9 w =  2.0 loss =  0.08567568969247186\n"
     ]
    }
   ],
   "source": [
    "def gradient(x, y):\n",
    "    return 2*x*(x*w - y)\n",
    "\n",
    "alpha = 0.01 # As you can know alpha is a learning rate -> change it to pracice!.\n",
    "            # If you set higher value of alpha, its convergence speed is very fast.\n",
    "            # Else you set lower value of alpha, its convergence speed is slow.\n",
    "for epoch in range(10):\n",
    "    for x_val, y_val in zip(x_data, y_data):\n",
    "        grad = gradient(x_val, y_val)\n",
    "        w = w - alpha * grad\n",
    "        \n",
    "        loss_val = loss(x_val, y_val)\n",
    "    print(\"Epoch  = \", epoch, \"/9 w = \", round(w), \"loss = \", loss_val)  "
   ]
  },
  {
   "cell_type": "markdown",
   "metadata": {},
   "source": [
    "### This work refers to kim sung's youtube pytorch lecture.\n"
   ]
  },
  {
   "cell_type": "code",
   "execution_count": null,
   "metadata": {},
   "outputs": [],
   "source": []
  },
  {
   "cell_type": "code",
   "execution_count": null,
   "metadata": {},
   "outputs": [],
   "source": []
  },
  {
   "cell_type": "code",
   "execution_count": null,
   "metadata": {},
   "outputs": [],
   "source": []
  }
 ],
 "metadata": {
  "kernelspec": {
   "display_name": "PyTorch",
   "language": "python",
   "name": "pytorch"
  },
  "language_info": {
   "codemirror_mode": {
    "name": "ipython",
    "version": 3
   },
   "file_extension": ".py",
   "mimetype": "text/x-python",
   "name": "python",
   "nbconvert_exporter": "python",
   "pygments_lexer": "ipython3",
   "version": "3.7.2"
  }
 },
 "nbformat": 4,
 "nbformat_minor": 2
}
