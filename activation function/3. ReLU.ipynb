{
 "cells": [
  {
   "cell_type": "markdown",
   "metadata": {},
   "source": [
    "### 3. ReLU function\n",
    "\n",
    "ReLU function is widly used in deep learning network to solve the vanishing gradient problem of sigmoid and tanh function.\n",
    "Also the derivative function of relu is very simple because it is a linear function.\n",
    "When you see the graph of the relu, you will find how to avoid the vanishing gradient problem.\n",
    "\n",
    "Let's look at the formula of relu and graph below.\n",
    "\n",
    "$$ ReLu(x) =\\begin{cases}\n",
    "0,  & \\text{for x < 0} \\\\\n",
    "x, & \\text{for x >= 0}\n",
    "\\end{cases}$$"
   ]
  },
  {
   "cell_type": "code",
   "execution_count": 5,
   "metadata": {},
   "outputs": [
    {
     "data": {
      "image/png": "[encoded data removed]",
      "text/plain": [
       "<Figure size 432x288 with 2 Axes>"
      ]
     },
     "metadata": {
      "needs_background": "light"
     },
     "output_type": "display_data"
    }
   ],
   "source": [
    "import numpy as np\n",
    "import matplotlib.pyplot as plt\n",
    "\n",
    "def relu(x):\n",
    "    \n",
    "    output = []\n",
    "    \n",
    "    for y in x:\n",
    "        if y>=0:\n",
    "            output.append(y)\n",
    "        else:\n",
    "            y=0\n",
    "            output.append(y)\n",
    "    return output\n",
    "def de_relu(x):\n",
    "    \n",
    "    output = []\n",
    "    \n",
    "    for y in x:\n",
    "        if y>=0:\n",
    "            y=1\n",
    "            output.append(y)\n",
    "        else:\n",
    "            y=0\n",
    "            output.append(y)\n",
    "    return output\n",
    "\n",
    "x = np.linspace(-20, 20, 100)\n",
    "\n",
    "re = relu(x)\n",
    "de_re = de_relu(x)\n",
    "\n",
    "fig = plt.figure()\n",
    "ax1 = fig.add_subplot(2,1,1)\n",
    "plt.plot(x, re)\n",
    "plt.grid()\n",
    "\n",
    "ax2 = fig.add_subplot(2,1,2)\n",
    "plt.plot(x, de_re)\n",
    "plt.grid()\n"
   ]
  },
  {
   "cell_type": "markdown",
   "metadata": {},
   "source": [
    "#### Look at the graph, if x is positive, the gradient is constant(==1). So we can solve the vanishing gradient problem.\n",
    "#### Also, the function is linear, the calculation is very easy that makes good efficiency. Compared with the results of the speed with same model that used sigmoid or tanh function, relu function is six times faster.\n",
    "\n",
    "#### However, as shown in the above graph, it is not symmetrical with respect to zero. In addition, if x is negative, there is a draw back that the gradient becomes 0 unconditionally. \n",
    "\n",
    "#### To overcome this, Leaky relu was devised. Let's see the Leaky relu in next page."
   ]
  },
  {
   "cell_type": "code",
   "execution_count": null,
   "metadata": {},
   "outputs": [],
   "source": []
  }
 ],
 "metadata": {
  "kernelspec": {
   "display_name": "PyTorch",
   "language": "python",
   "name": "pytorch"
  },
  "language_info": {
   "codemirror_mode": {
    "name": "ipython",
    "version": 3
   },
   "file_extension": ".py",
   "mimetype": "text/x-python",
   "name": "python",
   "nbconvert_exporter": "python",
   "pygments_lexer": "ipython3",
   "version": "3.7.2"
  }
 },
 "nbformat": 4,
 "nbformat_minor": 2
}
