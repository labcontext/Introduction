{
 "cells": [
  {
   "cell_type": "markdown",
   "metadata": {},
   "source": [
    "## 2. Tanh function\n",
    "\n",
    "Tanh function has a similar shape to sigmoid. It can also be expressed as a function that adjusts sigmoid function's size and position.\n",
    "\n",
    "Look at the sigmoid function's formula\n",
    "\n",
    "$$\n",
    "sigmoid(z) = \\sigma(z) = {1 \\over {1+ e^{-z}}} , (0, 1)\n",
    "$$\n",
    "\n",
    "and look at the tanh function's formula.\n",
    "\n",
    "$$\n",
    "tanh(z) = 2\\sigma(2z)- 1 = {{e^{z} - e^{-z}} \\over {e^{z}+ e^{-z}}} , (-1, 1)\n",
    "$$\n",
    "\n",
    "And let's look at the tanh's graph and derivative tanh with python code"
   ]
  },
  {
   "cell_type": "code",
   "execution_count": 21,
   "metadata": {},
   "outputs": [
    {
     "data": {
      "image/png": "[encoded data removed]",
      "text/plain": [
       "<Figure size 432x288 with 2 Axes>"
      ]
     },
     "metadata": {
      "needs_background": "light"
     },
     "output_type": "display_data"
    }
   ],
   "source": [
    "import numpy as np\n",
    "import matplotlib.pyplot as plt\n",
    "\n",
    "def tanh(x):\n",
    "    \n",
    "    output = []\n",
    "    \n",
    "    for y in x:\n",
    "        output.append((np.exp(y) - np.exp(-y)) / (np.exp(y) + np.exp(-y)))\n",
    "    return output\n",
    "\n",
    "def de_tanh(x):\n",
    "    \n",
    "    output = []\n",
    "    \n",
    "    for y in x:\n",
    "        output.append(4 / (np.exp(y) + np.exp(-y))**2)\n",
    "    return output\n",
    "\n",
    "x = np.linspace(-20, 20, 100)\n",
    "x_ = np.linspace(-20, 20, 100)\n",
    "\n",
    "tan = tanh(x)\n",
    "de_tan = de_tanh(x_)\n",
    "\n",
    "fig = plt.figure()\n",
    "ax1 = fig.add_subplot(2,1,1)\n",
    "plt.plot(x, tan)\n",
    "plt.grid()\n",
    "\n",
    "ax2 = fig.add_subplot(2,1,2)\n",
    "plt.plot(x, de_tan)\n",
    "plt.grid()\n"
   ]
  },
  {
   "cell_type": "markdown",
   "metadata": {},
   "source": [
    "#### Unlike the sigmoid function, the shape of the graph is symmetrical with respect to zero.\n",
    "#### There is no particular difference between tanh and sigmoid, except the tanh's center value is zero.\n",
    "#### So, the training convergence speed is more faster than sigmoid. But the vanishing gradient problem sitll exist.\n",
    "\n",
    "### In addition, tanh is not using in cnn model now. But, you can see this function in the last layer of gan network.\n",
    "\n",
    "### Tanh's center value is zero, graph is symmetric(treating darker colours and lighter colurs) and its range is (-1, 1) that makes more smooth but sigmoid's range is (0, 1) that discard the leftside value."
   ]
  },
  {
   "cell_type": "code",
   "execution_count": null,
   "metadata": {},
   "outputs": [],
   "source": [
    "\n"
   ]
  },
  {
   "cell_type": "code",
   "execution_count": null,
   "metadata": {},
   "outputs": [],
   "source": []
  }
 ],
 "metadata": {
  "kernelspec": {
   "display_name": "PyTorch",
   "language": "python",
   "name": "pytorch"
  },
  "language_info": {
   "codemirror_mode": {
    "name": "ipython",
    "version": 3
   },
   "file_extension": ".py",
   "mimetype": "text/x-python",
   "name": "python",
   "nbconvert_exporter": "python",
   "pygments_lexer": "ipython3",
   "version": "3.7.2"
  }
 },
 "nbformat": 4,
 "nbformat_minor": 2
}
