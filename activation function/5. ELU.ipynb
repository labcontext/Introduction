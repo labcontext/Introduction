{
 "cells": [
  {
   "cell_type": "markdown",
   "metadata": {},
   "source": [
    "5. ELU function\n",
    "\n",
    "The biggtest disadvantage of the Leaky ReLU is that the gradient is zero in the negative domain(t<0). This problem produces the non-weight update and low speed of training. To solve this problem, ELU was created.\n",
    "\n",
    "The above introduction is same as 4. Leaky Relu. Because those functions purpose is same.\n",
    "\n",
    "Let's see the formula and graph below with python code. In the code i set 𝜆\n",
    "as 0.3 to see more effectively.  $ \\lambda \\space is \\space (0,1)$.\n",
    "\n",
    "$$ ELU(x) =\\begin{cases}\n",
    "\\lambda (e^{x-1}) ,  & \\text{for x < 0} \\\\\n",
    "x, & \\text{for x >= 0}\n",
    "\\end{cases}\n",
    "$$\n"
   ]
  },
  {
   "cell_type": "code",
   "execution_count": 6,
   "metadata": {},
   "outputs": [
    {
     "data": {
      "image/png": "[encoded data removed]",
      "text/plain": [
       "<Figure size 432x288 with 2 Axes>"
      ]
     },
     "metadata": {
      "needs_background": "light"
     },
     "output_type": "display_data"
    }
   ],
   "source": [
    "import numpy as np\n",
    "import matplotlib.pyplot as plt\n",
    "\n",
    "def Elu(x):\n",
    "    \n",
    "    output = []\n",
    "    \n",
    "    for y in x:\n",
    "        if y>=0:\n",
    "            output.append(y)\n",
    "        else:\n",
    "            y=0.3 * (np.exp(y) -1 )\n",
    "            output.append(y)\n",
    "    return output\n",
    "def de_Elu(x):\n",
    "    \n",
    "    output = []\n",
    "    \n",
    "    for y in x:\n",
    "        if y>=0:\n",
    "            y=1\n",
    "            output.append(y)\n",
    "        else:\n",
    "            y=0.3 * np.exp(y)\n",
    "            output.append(y)\n",
    "    return output\n",
    "\n",
    "x = np.linspace(-15, 15, 100)\n",
    "\n",
    "Ee = Elu(x)\n",
    "de_Ee = de_Elu(x)\n",
    "\n",
    "fig = plt.figure()\n",
    "ax1 = fig.add_subplot(2,1,1)\n",
    "plt.plot(x, Ee)\n",
    "plt.grid()\n",
    "\n",
    "ax2 = fig.add_subplot(2,1,2)\n",
    "plt.plot(x, de_Ee)\n",
    "plt.grid()\n"
   ]
  },
  {
   "cell_type": "markdown",
   "metadata": {},
   "source": [
    "### As you can see and understand in the graph, ELU function employs a saturation function as negative-region. So the saturation function helps the decresement "
   ]
  },
  {
   "cell_type": "code",
   "execution_count": null,
   "metadata": {},
   "outputs": [],
   "source": []
  }
 ],
 "metadata": {
  "kernelspec": {
   "display_name": "Python 3",
   "language": "python",
   "name": "python3"
  },
  "language_info": {
   "codemirror_mode": {
    "name": "ipython",
    "version": 3
   },
   "file_extension": ".py",
   "mimetype": "text/x-python",
   "name": "python",
   "nbconvert_exporter": "python",
   "pygments_lexer": "ipython3",
   "version": "3.6.7"
  }
 },
 "nbformat": 4,
 "nbformat_minor": 2
}
