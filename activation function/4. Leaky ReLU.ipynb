{
 "cells": [
  {
   "cell_type": "markdown",
   "metadata": {},
   "source": [
    "## 4. Leaky ReLU function\n",
    "\n",
    "The biggtest disadvantage of the Leaky ReLU is that the gradient is zero in the negative domain(t<0).\n",
    "This problem produces the non-weight update and low speed of training.\n",
    "To solve this problem, Leaky ReLU was created.\n",
    "\n",
    "Let's see the formula and graph below with python code.\n",
    "In the code i set $ \\lambda $ as 0.3 to see more effectively.\n",
    "\n",
    "$$ Leaky ReLu(x) =\\begin{cases}\n",
    "\\lambda x,  & \\text{for x < 0} \\\\\n",
    "x, & \\text{for x >= 0}\n",
    "\\end{cases}\n",
    "$$\n",
    
   
   ]
  },
  {
   "cell_type": "code",
   "execution_count": 8,
   "metadata": {},
   "outputs": [
    {
     "data": {
      "image/png": "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\n",
      "text/plain": [
       "<Figure size 432x288 with 2 Axes>"
      ]
     },
     "metadata": {
      "needs_background": "light"
     },
     "output_type": "display_data"
    }
   ],
   "source": [
    "import numpy as np\n",
    "import matplotlib.pyplot as plt\n",
    "\n",
    "def Lrelu(x):\n",
    "    \n",
    "    output = []\n",
    "    \n",
    "    for y in x:\n",
    "        if y>=0:\n",
    "            output.append(y)\n",
    "        else:\n",
    "            y=0.3 * y\n",
    "            output.append(y)\n",
    "    return output\n",
    "def de_Lrelu(x):\n",
    "    \n",
    "    output = []\n",
    "    \n",
    "    for y in x:\n",
    "        if y>=0:\n",
    "            y=1\n",
    "            output.append(y)\n",
    "        else:\n",
    "            y=0.3\n",
    "            output.append(y)\n",
    "    return output\n",
    "\n",
    "x = np.linspace(-1, 1, 100)\n",
    "\n",
    "Lre = Lrelu(x)\n",
    "de_Lre = de_Lrelu(x)\n",
    "\n",
    "fig = plt.figure()\n",
    "ax1 = fig.add_subplot(2,1,1)\n",
    "plt.plot(x, Lre)\n",
    "plt.grid()\n",
    "\n",
    "ax2 = fig.add_subplot(2,1,2)\n",
    "plt.plot(x, de_Lre)\n",
    "plt.grid()\n"
   ]
  },
  {
   "cell_type": "markdown",
   "metadata": {},
   "source": [
    "# By using Leaky ReLU, we can get a small but not zero gradient in the negative domain."
   ]
  },
  {
   "cell_type": "code",
   "execution_count": null,
   "metadata": {},
   "outputs": [],
   "source": []
  }
 ],
 "metadata": {
  "kernelspec": {
   "display_name": "Python 3",
   "language": "python",
   "name": "python3"
  },
  "language_info": {
   "codemirror_mode": {
    "name": "ipython",
    "version": 3
   },
   "file_extension": ".py",
   "mimetype": "text/x-python",
   "name": "python",
   "nbconvert_exporter": "python",
   "pygments_lexer": "ipython3",
   "version": "3.6.7"
  }
 },
 "nbformat": 4,
 "nbformat_minor": 2
}
